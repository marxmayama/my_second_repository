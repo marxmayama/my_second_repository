{
 "cells": [
  {
   "cell_type": "markdown",
   "metadata": {},
   "source": [
    "# Still D.R.E\n",
    "\n",
    ">Bacground\n",
    "\n",
    "\"Still D.R.E.\" is a song by American rapper-producer Dr. Dre, featuring fellow American rapper Snoop Dogg. It was released on November 2, 1999, as the lead single from Dre's multi-platinum second studio album, 2001 (1999). The single debuted and peaked at number 93 on the Billboard Hot 100 in 1999 before re-entering and peaking at number 23 in 2022. It was more successful in the United Kingdom, where it reached number 6. The song has been performed live numerous times by both Dr. Dre and Snoop Dogg\n",
    "\n",
    ">Content & Topics\n",
    "\n",
    "\"Still D.R.E.\" is a song by American rapper-producer Dr. Dre, featuring fellow American rapper Snoop Dogg. It was released on November 2, 1999, as the lead single from Dre's multi-platinum second studio album, 2001 (1999). The single debuted and peaked at number 93 on the Billboard Hot 100 in 1999 before re-entering and peaking at number 23 in 2022. It was more successful in the United Kingdom, where it reached number 6. The song has been performed live numerous times by both Dr. Dre and Snoop Dogg. Notable performances include the 2000 Up in Smoke Tour and as the final song in the Super Bowl LVI halftime show on February 13, 2022, alongside fellow American rappers Eminem, Mary J. Blige, Kendrick Lamar and 50 Cent, with Anderson .Paak on drums.\n",
    "\n",
    "Background\n",
    "\n",
    "\n",
    ">Awards won\n",
    "\n",
    "\n",
    ">Sampling & Cultural impact"
   ]
  }
 ],
 "metadata": {
  "kernelspec": {
   "display_name": "Python 3",
   "language": "python",
   "name": "python3"
  },
  "language_info": {
   "codemirror_mode": {
    "name": "ipython",
    "version": 3
   },
   "file_extension": ".py",
   "mimetype": "text/x-python",
   "name": "python",
   "nbconvert_exporter": "python",
   "pygments_lexer": "ipython3",
   "version": "3.8.5"
  }
 },
 "nbformat": 4,
 "nbformat_minor": 4
}
